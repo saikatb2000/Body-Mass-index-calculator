{
 "cells": [
  {
   "cell_type": "markdown",
   "id": "f3dc38f3",
   "metadata": {},
   "source": [
    "# Body Mass Index calculator"
   ]
  },
  {
   "cell_type": "code",
   "execution_count": 1,
   "id": "3d0db011",
   "metadata": {},
   "outputs": [
    {
     "name": "stdout",
     "output_type": "stream",
     "text": [
      "Welcome to BMI (Body Mass Index) calculator 2.0! (By Saikat)\n",
      "Enter your hight in Foot: 5\n",
      "Your hight in Meter is:  1.52\n",
      "Enter Your Weight in Kg: 60\n",
      "Your BMI is 25.97, you are slightly overweight.\n"
     ]
    }
   ],
   "source": [
    "print(\"Welcome to BMI (Body Mass Index) calculator 2.0! (By Saikat)\")\n",
    "foot = float(input(\"Enter your hight in Foot: \"))\n",
    "# meter = foot/3.2808\n",
    "meter = foot * 0.3048\n",
    "meter = round(meter, 2)\n",
    "print(\"Your hight in Meter is: \", meter)\n",
    "height = float(meter)\n",
    "weight = int(input(\"Enter Your Weight in Kg: \"))\n",
    "bmi = weight / (height*height)\n",
    "bmi= round(bmi,2)\n",
    "if bmi < 18.5:\n",
    "  print(f\"Your BMI is {bmi}, you are underweight.\")\n",
    "elif  bmi <25:\n",
    "  print(f\"Your BMI is {bmi}, you have a normal weight.\")\n",
    "elif  bmi<30:\n",
    "  print(f'Your BMI is {bmi}, you are slightly overweight.')\n",
    "elif  bmi<35:\n",
    "  print(f\"Your BMI is {bmi}, you are obese.\")\n",
    "else:\n",
    "  print(f\"Your BMI is {bmi}, you are clinically obese.\")\n"
   ]
  }
 ],
 "metadata": {
  "kernelspec": {
   "display_name": "Python 3 (ipykernel)",
   "language": "python",
   "name": "python3"
  },
  "language_info": {
   "codemirror_mode": {
    "name": "ipython",
    "version": 3
   },
   "file_extension": ".py",
   "mimetype": "text/x-python",
   "name": "python",
   "nbconvert_exporter": "python",
   "pygments_lexer": "ipython3",
   "version": "3.11.5"
  }
 },
 "nbformat": 4,
 "nbformat_minor": 5
}
